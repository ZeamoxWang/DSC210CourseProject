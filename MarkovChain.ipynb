{
  "cells": [
    {
      "cell_type": "markdown",
      "metadata": {
        "id": "q8vtDc-FQ-fI"
      },
      "source": [
        "# Markov Chain\n",
        "\n",
        "Assuming a system that evolves over time with only a finite set of states, denoted as\n",
        "$$\n",
        "\\Omega = \\{x_1, x_2, \\cdots, x_n\\}.\n",
        "$$\n",
        "At time points $t = 1, 2, \\cdots$, the system's state takes values in $\\Omega$, forming a random distribution. If the value of $X_t$ is determined solely by $X_{t - 1}$ and is independent of the system's earlier states. It is called Markovian property. Then the sequence of states $\\{X_t\\}, t = 0, 1, \\cdots$ that satisfies this condition is referred to as a Markov chain.\n",
        "\n",
        "Here, $X_t$ is intentionally capitalized to indicate that it is an uncertain random variable. It could be any one of the states in $\\Omega$. It effectively represents a random distribution of values taken in $\\Omega$, with each state in $\\Omega$ having a determined probability of occurrence (only at time $t$). Strictly speaking, a Markov chain is a sequence of random distributions, and the distribution $X_t$ at time $t$ is determined solely by the distribution of the previous time, $X_{t - 1}$. Therefore, if we know the system's state at time $t - 1$, i.e., the value of $X_{t - 1}$, for example,\n",
        "$$\n",
        "X_{t - 1} = x_i \\in \\Omega,\n",
        "$$\n",
        "then the **distribution** of $X_t$ is **completely** determined by this state $x_i$.\n",
        "Let\n",
        "$$\n",
        "P\\{x_i \\to x_j\\} := p_{ij}, \\quad i, j = 1, 2, \\cdots, n.\n",
        "$$\n",
        "It is evident that\n",
        "$$\n",
        "\\sum_{j = 1}^n p_{ij} = 1, \\quad i = 1, 2, \\cdots, n.\n",
        "$$\n",
        "\n",
        "It is also one requirement about how a matrix can be a transition matrix. Another one is that every entry of that matrix should be non-negative. Naturally, the matrix\n",
        "$$\n",
        "P := \\left[p_{ij}\\right]_{n \\times n}, \\quad i, j = 1, 2, \\cdots, n.\n",
        "$$\n",
        "contains all the information about a Markov chain. Its $i$-th row represents the distribution of all possible states that state $x_i$ can transition to at the next time step.\n",
        "\n",
        "Here, we summerize the requirements as follows:\n",
        "1. $p_{ij} \\geq 0$, for $i, j = 1, 2, \\cdots, n$.\n",
        "2. $\\sum_{j = 1}^n p_{ij} = 1, \\quad i = 1, 2, \\cdots, n.$\n",
        "\n",
        "Additionally, it should be noted that the diagonal element $p_{ii}$ can be greater than zero, meaning there is a probability that the system will remain in state $x_i$ at the next time step. It is also important that here we implicitly assume that $p_{ij}$ is a time-independent constant. Such a Markov chain is referred to as homogeneous.\n"
      ]
    },
    {
      "cell_type": "markdown",
      "metadata": {},
      "source": [
        "Then we find the transition of distributions can be represented by the matrix multiplication. We would like to illustrate this in the following example.\n",
        "\n",
        "Let $\\Omega = \\{x_1, x_2, x_3, x_4\\}$, and the transition matrix be\n",
        "$$\n",
        "\\mathbf{P} = \\left[\n",
        "\\begin{array}{cccc}\n",
        "p_{11} & p_{12} & 0 & p_{14} \\\\\n",
        "p_{21} & 0 & p_{23} & 0 \\\\\n",
        "p_{31} & 0 & 0 & p_{34} \\\\\n",
        "0 & 0 & p_{43} & p_{44}\n",
        "\\end{array}\n",
        "\\right].\n",
        "$$\n",
        "\n",
        "We assume the initial state is\n",
        "$$\n",
        "X_0 = x_1,\n",
        "$$\n",
        "which means the initial state is determined, i.e.,\n",
        "$$\n",
        "\\mathbf{p}_0 = (1, 0, 0, 0).\n",
        "$$\n",
        "The probability distribution for the next state $X_1 = x_j$ is given by $p_{1j}$, i.e.,\n",
        "$$\n",
        "P\\{X_1 = x_j\\} = p_{1j}, \\quad j = 1, 2, 3, 4.\n",
        "$$\n",
        "In this example, it cannot arrive state 3 within one step. But later, it can arrive state 3 via state 2 or 4.\n",
        "\n",
        "In general, if we use\n",
        "$$\n",
        "\\mathbf{p}_t = (p_1, p_2, p_3, p_4)\n",
        "$$\n",
        "to represent the probability mass function (PMF) of the system state variable $X_t$ at time $t$, i.e.,\n",
        "$$\n",
        "\\mathbf{p}_j = P\\{X_t = x_j\\}, \\quad j = 1, 2, 3, 4,\n",
        "$$\n",
        "then the vector $\\mathbf{p}$ is called a probability vector. Typically, it is conventionally treated as a row vector. According to the definition of the Markov chain, we have\n",
        "$$\n",
        "\\mathbf{p}_{t + 1} = \\mathbf{p}_t \\mathbf{P}.\n",
        "$$\n",
        "Thus,\n",
        "$$\n",
        "\\mathbf{p}_{t + 1} = \\mathbf{p}_t\\mathbf{P} = \\mathbf{p}_{t - 1}\\mathbf{P}^2 = \\cdots = \\mathbf{p}_0 \\mathbf{P}^{t - 1}.\n",
        "$$"
      ]
    },
    {
      "cell_type": "markdown",
      "metadata": {},
      "source": [
        "One step further, we can define stationary distribution.\n",
        "\n",
        "According to Wiki, it is defined as follows:\n",
        "\n",
        "A special distribution for a Markov chain such that if the chain starts with its stationary distribution, the marginal distribution of all states at any time will always be the stationary distribution. Assuming irreducibility, the stationary distribution is always unique if it exists, and its existence can be implied by positive recurrence of all states. The stationary distribution has the interpretation of the limiting distribution when the chain is irreducible and aperiodic.\n",
        "\n",
        "From the definition of the stationary distribution, we can see that, in fact, the stationary distribution is the fixed point $\\pi$ of the iterative process\n",
        "$$\n",
        "\\mathbf{p}_{t + 1} = \\mathbf{p}_t \\mathbf{P}\n",
        "$$\n",
        "satisfying\n",
        "$$\n",
        "\\pi \\mathbf{P} = \\pi,\n",
        "$$\n",
        "or it is the left eigenvector corresponding to the eigenvalue $1$ of the transition matrix $\\mathbf{P}$.\n",
        "\n",
        "Let us do a simulation to illustrate its convergence.\n",
        "\n",
        "Assuming the stock price of Apple follows a finite homogeneous Markov chain and considering three states corresponding to rise, stable, and fall denoted as $x_1$, $x_2$, and $x_3$ respectively, the probability distribution of the price change on the next day is entirely determined by the previous day's state. The transition matrix is given by\n",
        "$$\n",
        "\\mathbf{P} = \\left[\n",
        "\\begin{array}{ccc}\n",
        "0.3 & 0.2 & 0.5 \\\\\n",
        "0.4 & 0.2 & 0.4 \\\\\n",
        "0.4 & 0.3 & 0.3\n",
        "\\end{array}\n",
        "\\right],\n",
        "$$\n",
        "so as long as we have an initial state, we can simulate its stock price. For example, let's assume the initial state is a rise, i.e.,\n",
        "$$\n",
        "\\mathbf{p}_0 = (1, 0, 0),\n",
        "$$"
      ]
    },
    {
      "cell_type": "code",
      "execution_count": 1,
      "metadata": {},
      "outputs": [
        {
          "name": "stdout",
          "output_type": "stream",
          "text": [
            "[1 0 0]\n",
            "[0.3 0.2 0.5]\n",
            "[0.37 0.25 0.38]\n",
            "[0.363 0.238 0.399]\n",
            "[0.3637 0.2399 0.3964]\n",
            "[0.36363 0.23964 0.39673]\n",
            "[0.363637 0.239673 0.39669 ]\n",
            "[0.3636363 0.239669  0.3966947]\n",
            "[0.36363637 0.23966947 0.39669416]\n",
            "[0.36363636 0.23966942 0.39669422]\n",
            "[0.36363636 0.23966942 0.39669421]\n",
            "[0.36363636 0.23966942 0.39669421]\n",
            "[0.36363636 0.23966942 0.39669421]\n",
            "[0.36363636 0.23966942 0.39669421]\n",
            "[0.36363636 0.23966942 0.39669421]\n",
            "[0.36363636 0.23966942 0.39669421]\n",
            "[0.36363636 0.23966942 0.39669421]\n",
            "[0.36363636 0.23966942 0.39669421]\n",
            "[0.36363636 0.23966942 0.39669421]\n",
            "[0.36363636 0.23966942 0.39669421]\n",
            "[0.36363636 0.23966942 0.39669421]\n"
          ]
        },
        {
          "data": {
            "image/png": "[encoded data removed]",
            "text/plain": [
              "<Figure size 432x288 with 1 Axes>"
            ]
          },
          "metadata": {
            "needs_background": "light"
          },
          "output_type": "display_data"
        }
      ],
      "source": [
        "import numpy as np\n",
        "p = np.array([1, 0, 0])    \n",
        "P = np.array([[0.3, 0.2, 0.5], [0.4, 0.2, 0.4], [0.4, 0.3, 0.3]])\n",
        "data = []\n",
        "for i in range(20):\n",
        "    print(p)\n",
        "    data.append(p)\n",
        "    p = p @ P\n",
        "print(p)\n",
        "data.append(p)\n",
        "data = np.stack(data)\n",
        "\n",
        "import matplotlib.pyplot as plt\n",
        "import numpy as np\n",
        "\n",
        "fig = plt.figure()\n",
        "ax = fig.add_subplot(111, projection='3d')\n",
        "\n",
        "ax.plot(data[:, 0], data[:, 1], data[:, 2])\n",
        "\n",
        "ax.set_xlabel('X Axis')\n",
        "ax.set_ylabel('Y Axis')\n",
        "ax.set_zlabel('Z Axis')\n",
        "ax.set_title('3D Trajectory Visualization')\n",
        "\n",
        "plt.show()"
      ]
    },
    {
      "cell_type": "markdown",
      "metadata": {},
      "source": [
        "Connecting with what we learnt in class, this phenomenon is similar to the outcome of power method. We know that the condition of this kind of convergence is that 1 should be the largest eigenvalue after taking absolute operation. Can we prove this property theoretically?\n",
        "\n",
        "The answer is yes. We can refer to a simplified version of Perron-Frobenius Theorem:\n",
        "\n",
        "**Perron-Frobenius Theorm**\n",
        "\n",
        "If the transition matrix $\\mathbf{P}$ satisfies that all $p_{ij}$ are strictly greater than zero, then:\n",
        "1. $\\mathbf{P}$ has an eigenvalue $1$, and all components of the corresponding left eigenvector $\\mathbf{w}$ are strictly positive.\n",
        "2. If $\\mathbf{w}$ is normalized, then\n",
        "$$\n",
        "\\lim_{t \\to \\infty}\\mathbf{P}^t = \\mathbf{1w};\n",
        "$$\n",
        "3. For any probability (row) vector $\\alpha$, it holds that\n",
        "$$\n",
        "\\lim_{t \\to \\infty} \\alpha \\mathbf{P}^t = \\mathbf{w},\n",
        "$$\n",
        "where $\\mathbf{w}$ is already normalized, and $\\mathbf{1}$ is a column vector with all components equal to $1$.\n",
        "\n",
        "Here, it's important to note that the theorem's requirement is that all elements are strictly greater than zero, which is a very strong condition. This means that any two states can transition to each other within one step. In practice, this condition can be relaxed to:\n",
        "1. Any two states in the system can transition to each other in a finite number of steps, which is also known as being irreducible;\n",
        "2. The probability distribution of the system's states (not individual states) does not exhibit periodic changes.\n",
        "For any non-periodic, irreducible Markov chain, there exists a stationary distribution.\n",
        "\n",
        "Initially, Oskar Perron published some fundamental discoveries about positive matrices in 1907, known as Perron's theorem. Later, Frobenius extended it to non-negative matrices, and it became known as the Perron-Frobenius theorem. Here positivity and non-negativity means the entries should be positive or non-negative. The original proof is too abstruse, but we can verify some basic properties here."
      ]
    },
    {
      "cell_type": "markdown",
      "metadata": {},
      "source": [
        "Firstly, the following conclusion is easy to prove: for any eigenvector with a sum of its elements not equal to zero, the corresponding eigenvalue must be 1.\n",
        "\n",
        "In fact, let $\\lambda$ be an eigenvalue of $\\mathbf{P}$, and $\\mathbf{w} = (w_1, w_2, \\cdots, w_n)$ be its left eigenvector, i.e.:\n",
        "$$\n",
        "\\mathbf{w} \\mathbf{P} = (\\sum_{i = 1}^nw_ip_{i1}, \\sum_{i = 1}^nw_ip_{i2}, \\cdots, \\sum_{i = 1}^nw_ip_{in}) = \\lambda \\mathbf{w} = (\\lambda w_1, \\lambda w_2, \\cdots, \\lambda w_n)\n",
        "$$\n",
        "Adding up the components on both sides and substituting the definition of the transition matrix:\n",
        "$$\n",
        "\\sum_{j = 1}^n p_{ij} = 1, \\quad i = 1, 2, \\cdots, n,\n",
        "$$\n",
        "we obtain\n",
        "$$\n",
        "\\sum_{i = 1}^n w_i = \\lambda \\sum_{i = 1}^n w_i \\Rightarrow \\lambda = 1.\n",
        "$$"
      ]
    },
    {
      "cell_type": "markdown",
      "metadata": {},
      "source": [
        "Then we can also prove: from any vector with a sum of its elements equal to one, after right multiplying transition matrix, it will still keep this property.\n",
        "\n",
        "$$ \\mathbf{w} \\mathbf{P} = (\\sum_{i = 1}^nw_ip_{i1}, \\sum_{i = 1}^nw_ip_{i2}, \\cdots, \\sum_{i = 1}^nw_ip_{in}) $$\n",
        "$$ \\sum_{j = 1}^n\\sum_{i = 1}^nw_ip_{ij} = \\sum_{i = 1}^n\\sum_{j = 1}^nw_ip_{ij} = \\sum_{i = 1}^nw_i = 1 $$\n",
        "\n",
        "According to these facts, we have proved that from a row vector representing distribution, power method will keep the sum of its elements as 1 and push it to get closer to a eigenvector with a sum of its elements not equal to zero. Hence the corresponding eigenvalue must be 1."
      ]
    }
  ],
  "metadata": {
    "colab": {
      "provenance": []
    },
    "kernelspec": {
      "display_name": "Python 3",
      "name": "python3"
    },
    "language_info": {
      "codemirror_mode": {
        "name": "ipython",
        "version": 3
      },
      "file_extension": ".py",
      "mimetype": "text/x-python",
      "name": "python",
      "nbconvert_exporter": "python",
      "pygments_lexer": "ipython3",
      "version": "3.8.8"
    }
  },
  "nbformat": 4,
  "nbformat_minor": 0
}
